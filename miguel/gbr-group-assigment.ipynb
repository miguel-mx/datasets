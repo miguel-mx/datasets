{
 "cells": [
  {
   "cell_type": "markdown",
   "metadata": {},
   "source": [
    "# First approach to Cancer and Daily Caloric Supply"
   ]
  },
  {
   "cell_type": "code",
   "execution_count": 213,
   "metadata": {},
   "outputs": [],
   "source": [
    "import pandas as pd\n",
    "# import numpy as np"
   ]
  },
  {
   "cell_type": "code",
   "execution_count": 214,
   "metadata": {},
   "outputs": [],
   "source": [
    "# Load datasets\n",
    "# country = 'GBR'\n",
    "\n",
    "url1 = 'https://raw.githubusercontent.com/miguel-mx/datasets/master/share-population-with-cancer.csv'\n",
    "url2 = 'https://raw.githubusercontent.com/miguel-mx/datasets/master/daily-caloric-supply.csv'\n",
    "\n",
    "# Share population with cancer SPWC\n",
    "spwc = pd.read_csv(url1, error_bad_lines=False)\n",
    "\n",
    "# Daily Caloric Supply DCS \n",
    "# kilocalories per person per day\n",
    "dcs = pd.read_csv(url2, error_bad_lines=False)\n"
   ]
  },
  {
   "cell_type": "code",
   "execution_count": 215,
   "metadata": {},
   "outputs": [],
   "source": [
    "# Extract only GBR country\n",
    "gbr = dcs.loc[dcs['Code'] == 'GBR']"
   ]
  },
  {
   "cell_type": "code",
   "execution_count": 216,
   "metadata": {},
   "outputs": [
    {
     "data": {
      "text/html": [
       "<div>\n",
       "<style scoped>\n",
       "    .dataframe tbody tr th:only-of-type {\n",
       "        vertical-align: middle;\n",
       "    }\n",
       "\n",
       "    .dataframe tbody tr th {\n",
       "        vertical-align: top;\n",
       "    }\n",
       "\n",
       "    .dataframe thead th {\n",
       "        text-align: right;\n",
       "    }\n",
       "</style>\n",
       "<table border=\"1\" class=\"dataframe\">\n",
       "  <thead>\n",
       "    <tr style=\"text-align: right;\">\n",
       "      <th></th>\n",
       "      <th>Year</th>\n",
       "      <th>Animal-protein</th>\n",
       "      <th>Plant-protein</th>\n",
       "      <th>Fat</th>\n",
       "      <th>Carbohydrates</th>\n",
       "    </tr>\n",
       "  </thead>\n",
       "  <tbody>\n",
       "    <tr>\n",
       "      <th>477</th>\n",
       "      <td>1961</td>\n",
       "      <td>214.88</td>\n",
       "      <td>150.00</td>\n",
       "      <td>1223.82</td>\n",
       "      <td>1642.30</td>\n",
       "    </tr>\n",
       "    <tr>\n",
       "      <th>478</th>\n",
       "      <td>1962</td>\n",
       "      <td>219.48</td>\n",
       "      <td>151.92</td>\n",
       "      <td>1238.22</td>\n",
       "      <td>1586.38</td>\n",
       "    </tr>\n",
       "    <tr>\n",
       "      <th>479</th>\n",
       "      <td>1963</td>\n",
       "      <td>217.88</td>\n",
       "      <td>152.68</td>\n",
       "      <td>1211.94</td>\n",
       "      <td>1642.50</td>\n",
       "    </tr>\n",
       "    <tr>\n",
       "      <th>480</th>\n",
       "      <td>1964</td>\n",
       "      <td>222.80</td>\n",
       "      <td>149.80</td>\n",
       "      <td>1215.45</td>\n",
       "      <td>1619.95</td>\n",
       "    </tr>\n",
       "    <tr>\n",
       "      <th>481</th>\n",
       "      <td>1965</td>\n",
       "      <td>219.76</td>\n",
       "      <td>149.00</td>\n",
       "      <td>1227.33</td>\n",
       "      <td>1643.91</td>\n",
       "    </tr>\n",
       "  </tbody>\n",
       "</table>\n",
       "</div>"
      ],
      "text/plain": [
       "     Year  Animal-protein  Plant-protein      Fat  Carbohydrates\n",
       "477  1961          214.88         150.00  1223.82        1642.30\n",
       "478  1962          219.48         151.92  1238.22        1586.38\n",
       "479  1963          217.88         152.68  1211.94        1642.50\n",
       "480  1964          222.80         149.80  1215.45        1619.95\n",
       "481  1965          219.76         149.00  1227.33        1643.91"
      ]
     },
     "execution_count": 216,
     "metadata": {},
     "output_type": "execute_result"
    }
   ],
   "source": [
    "# Remove Entity and Code columns (is the same for all rows)\n",
    "# Set year as the index (maybe treat as time series)\n",
    "\n",
    "gbr = gbr.drop(['Entity','Code'], axis = 1)\n",
    "gbr.set_index(['Year'])\n",
    "gbr.head(5)"
   ]
  },
  {
   "cell_type": "code",
   "execution_count": 217,
   "metadata": {},
   "outputs": [
    {
     "data": {
      "text/html": [
       "<div>\n",
       "<style scoped>\n",
       "    .dataframe tbody tr th:only-of-type {\n",
       "        vertical-align: middle;\n",
       "    }\n",
       "\n",
       "    .dataframe tbody tr th {\n",
       "        vertical-align: top;\n",
       "    }\n",
       "\n",
       "    .dataframe thead th {\n",
       "        text-align: right;\n",
       "    }\n",
       "</style>\n",
       "<table border=\"1\" class=\"dataframe\">\n",
       "  <thead>\n",
       "    <tr style=\"text-align: right;\">\n",
       "      <th></th>\n",
       "      <th>Year</th>\n",
       "      <th>Prevalence</th>\n",
       "    </tr>\n",
       "  </thead>\n",
       "  <tbody>\n",
       "    <tr>\n",
       "      <th>252</th>\n",
       "      <td>1990</td>\n",
       "      <td>1.970745</td>\n",
       "    </tr>\n",
       "    <tr>\n",
       "      <th>253</th>\n",
       "      <td>1991</td>\n",
       "      <td>2.012251</td>\n",
       "    </tr>\n",
       "    <tr>\n",
       "      <th>254</th>\n",
       "      <td>1992</td>\n",
       "      <td>2.052186</td>\n",
       "    </tr>\n",
       "    <tr>\n",
       "      <th>255</th>\n",
       "      <td>1993</td>\n",
       "      <td>2.101779</td>\n",
       "    </tr>\n",
       "    <tr>\n",
       "      <th>256</th>\n",
       "      <td>1994</td>\n",
       "      <td>2.125211</td>\n",
       "    </tr>\n",
       "  </tbody>\n",
       "</table>\n",
       "</div>"
      ],
      "text/plain": [
       "     Year  Prevalence\n",
       "252  1990    1.970745\n",
       "253  1991    2.012251\n",
       "254  1992    2.052186\n",
       "255  1993    2.101779\n",
       "256  1994    2.125211"
      ]
     },
     "execution_count": 217,
     "metadata": {},
     "output_type": "execute_result"
    }
   ],
   "source": [
    "# Get Cancer prevalence for GBR\n",
    "prevalence = spwc.loc[spwc['Code'] == 'GBR']\n",
    "prevalence = prevalence.drop(['Entity','Code'], axis = 1)\n",
    "prevalence.set_index(['Year'])  # Don't work?\n",
    "prevalence.head(5)"
   ]
  },
  {
   "cell_type": "code",
   "execution_count": 218,
   "metadata": {},
   "outputs": [
    {
     "data": {
      "text/html": [
       "<div>\n",
       "<style scoped>\n",
       "    .dataframe tbody tr th:only-of-type {\n",
       "        vertical-align: middle;\n",
       "    }\n",
       "\n",
       "    .dataframe tbody tr th {\n",
       "        vertical-align: top;\n",
       "    }\n",
       "\n",
       "    .dataframe thead th {\n",
       "        text-align: right;\n",
       "    }\n",
       "</style>\n",
       "<table border=\"1\" class=\"dataframe\">\n",
       "  <thead>\n",
       "    <tr style=\"text-align: right;\">\n",
       "      <th></th>\n",
       "      <th>Year</th>\n",
       "      <th>Animal-protein</th>\n",
       "      <th>Plant-protein</th>\n",
       "      <th>Fat</th>\n",
       "      <th>Carbohydrates</th>\n",
       "      <th>Calories</th>\n",
       "    </tr>\n",
       "  </thead>\n",
       "  <tbody>\n",
       "    <tr>\n",
       "      <th>477</th>\n",
       "      <td>1961</td>\n",
       "      <td>214.88</td>\n",
       "      <td>150.00</td>\n",
       "      <td>1223.82</td>\n",
       "      <td>1642.30</td>\n",
       "      <td>3231.0</td>\n",
       "    </tr>\n",
       "    <tr>\n",
       "      <th>478</th>\n",
       "      <td>1962</td>\n",
       "      <td>219.48</td>\n",
       "      <td>151.92</td>\n",
       "      <td>1238.22</td>\n",
       "      <td>1586.38</td>\n",
       "      <td>3196.0</td>\n",
       "    </tr>\n",
       "    <tr>\n",
       "      <th>479</th>\n",
       "      <td>1963</td>\n",
       "      <td>217.88</td>\n",
       "      <td>152.68</td>\n",
       "      <td>1211.94</td>\n",
       "      <td>1642.50</td>\n",
       "      <td>3225.0</td>\n",
       "    </tr>\n",
       "    <tr>\n",
       "      <th>480</th>\n",
       "      <td>1964</td>\n",
       "      <td>222.80</td>\n",
       "      <td>149.80</td>\n",
       "      <td>1215.45</td>\n",
       "      <td>1619.95</td>\n",
       "      <td>3208.0</td>\n",
       "    </tr>\n",
       "    <tr>\n",
       "      <th>481</th>\n",
       "      <td>1965</td>\n",
       "      <td>219.76</td>\n",
       "      <td>149.00</td>\n",
       "      <td>1227.33</td>\n",
       "      <td>1643.91</td>\n",
       "      <td>3240.0</td>\n",
       "    </tr>\n",
       "  </tbody>\n",
       "</table>\n",
       "</div>"
      ],
      "text/plain": [
       "     Year  Animal-protein  Plant-protein      Fat  Carbohydrates  Calories\n",
       "477  1961          214.88         150.00  1223.82        1642.30    3231.0\n",
       "478  1962          219.48         151.92  1238.22        1586.38    3196.0\n",
       "479  1963          217.88         152.68  1211.94        1642.50    3225.0\n",
       "480  1964          222.80         149.80  1215.45        1619.95    3208.0\n",
       "481  1965          219.76         149.00  1227.33        1643.91    3240.0"
      ]
     },
     "execution_count": 218,
     "metadata": {},
     "output_type": "execute_result"
    }
   ],
   "source": [
    "# New column total of calories \n",
    "gbr['Calories'] = gbr[['Animal-protein', 'Plant-protein', 'Fat', 'Carbohydrates']].sum(axis=1)\n",
    "gbr.head(5)"
   ]
  },
  {
   "cell_type": "markdown",
   "metadata": {},
   "source": [
    "## > 3000 Calories by day is not a low calorie intake"
   ]
  },
  {
   "cell_type": "markdown",
   "metadata": {},
   "source": [
    "## Cancer Data vs Protein intake\n",
    "\n",
    "*** Cancer ***\n",
    "From 1990 to 2017\n",
    "\n",
    "*** Protein ***\n",
    "From 1961 to 2013\n"
   ]
  },
  {
   "cell_type": "code",
   "execution_count": 219,
   "metadata": {},
   "outputs": [],
   "source": [
    "#Remove years befor 1990\n",
    "gbr = gbr[(gbr.Year >= 1990)]\n",
    "\n",
    "#Remove years after 2013\n",
    "prevalence = prevalence[(prevalence.Year <= 2013)]"
   ]
  },
  {
   "cell_type": "code",
   "execution_count": 220,
   "metadata": {},
   "outputs": [
    {
     "name": "stdout",
     "output_type": "stream",
     "text": [
      "<class 'pandas.core.frame.DataFrame'>\n",
      "Int64Index: 24 entries, 506 to 529\n",
      "Data columns (total 6 columns):\n",
      "Year              24 non-null int64\n",
      "Animal-protein    24 non-null float64\n",
      "Plant-protein     24 non-null float64\n",
      "Fat               24 non-null float64\n",
      "Carbohydrates     24 non-null float64\n",
      "Calories          24 non-null float64\n",
      "dtypes: float64(5), int64(1)\n",
      "memory usage: 1.3 KB\n"
     ]
    }
   ],
   "source": [
    "gbr.info()"
   ]
  },
  {
   "cell_type": "code",
   "execution_count": 221,
   "metadata": {},
   "outputs": [
    {
     "name": "stdout",
     "output_type": "stream",
     "text": [
      "<class 'pandas.core.frame.DataFrame'>\n",
      "Int64Index: 24 entries, 252 to 275\n",
      "Data columns (total 2 columns):\n",
      "Year          24 non-null int64\n",
      "Prevalence    24 non-null float64\n",
      "dtypes: float64(1), int64(1)\n",
      "memory usage: 576.0 bytes\n"
     ]
    }
   ],
   "source": [
    "prevalence.info()"
   ]
  },
  {
   "cell_type": "code",
   "execution_count": 227,
   "metadata": {},
   "outputs": [
    {
     "data": {
      "text/html": [
       "<div>\n",
       "<style scoped>\n",
       "    .dataframe tbody tr th:only-of-type {\n",
       "        vertical-align: middle;\n",
       "    }\n",
       "\n",
       "    .dataframe tbody tr th {\n",
       "        vertical-align: top;\n",
       "    }\n",
       "\n",
       "    .dataframe thead th {\n",
       "        text-align: right;\n",
       "    }\n",
       "</style>\n",
       "<table border=\"1\" class=\"dataframe\">\n",
       "  <thead>\n",
       "    <tr style=\"text-align: right;\">\n",
       "      <th></th>\n",
       "      <th>Year</th>\n",
       "      <th>Animal-protein</th>\n",
       "      <th>Plant-protein</th>\n",
       "      <th>Fat</th>\n",
       "      <th>Carbohydrates</th>\n",
       "      <th>Calories</th>\n",
       "      <th>Prevalence</th>\n",
       "    </tr>\n",
       "  </thead>\n",
       "  <tbody>\n",
       "    <tr>\n",
       "      <th>506</th>\n",
       "      <td>1990</td>\n",
       "      <td>214.36</td>\n",
       "      <td>161.08</td>\n",
       "      <td>1230.93</td>\n",
       "      <td>1634.63</td>\n",
       "      <td>3241.0</td>\n",
       "      <td>1.970745</td>\n",
       "    </tr>\n",
       "    <tr>\n",
       "      <th>507</th>\n",
       "      <td>1991</td>\n",
       "      <td>212.32</td>\n",
       "      <td>158.16</td>\n",
       "      <td>1227.60</td>\n",
       "      <td>1609.92</td>\n",
       "      <td>3208.0</td>\n",
       "      <td>2.012251</td>\n",
       "    </tr>\n",
       "    <tr>\n",
       "      <th>508</th>\n",
       "      <td>1992</td>\n",
       "      <td>216.88</td>\n",
       "      <td>156.60</td>\n",
       "      <td>1304.82</td>\n",
       "      <td>1592.70</td>\n",
       "      <td>3271.0</td>\n",
       "      <td>2.052186</td>\n",
       "    </tr>\n",
       "    <tr>\n",
       "      <th>509</th>\n",
       "      <td>1993</td>\n",
       "      <td>210.76</td>\n",
       "      <td>162.24</td>\n",
       "      <td>1272.51</td>\n",
       "      <td>1572.49</td>\n",
       "      <td>3218.0</td>\n",
       "      <td>2.101779</td>\n",
       "    </tr>\n",
       "    <tr>\n",
       "      <th>510</th>\n",
       "      <td>1994</td>\n",
       "      <td>213.32</td>\n",
       "      <td>162.24</td>\n",
       "      <td>1248.30</td>\n",
       "      <td>1611.14</td>\n",
       "      <td>3235.0</td>\n",
       "      <td>2.125211</td>\n",
       "    </tr>\n",
       "  </tbody>\n",
       "</table>\n",
       "</div>"
      ],
      "text/plain": [
       "     Year  Animal-protein  Plant-protein      Fat  Carbohydrates  Calories  \\\n",
       "506  1990          214.36         161.08  1230.93        1634.63    3241.0   \n",
       "507  1991          212.32         158.16  1227.60        1609.92    3208.0   \n",
       "508  1992          216.88         156.60  1304.82        1592.70    3271.0   \n",
       "509  1993          210.76         162.24  1272.51        1572.49    3218.0   \n",
       "510  1994          213.32         162.24  1248.30        1611.14    3235.0   \n",
       "\n",
       "     Prevalence  \n",
       "506    1.970745  \n",
       "507    2.012251  \n",
       "508    2.052186  \n",
       "509    2.101779  \n",
       "510    2.125211  "
      ]
     },
     "execution_count": 227,
     "metadata": {},
     "output_type": "execute_result"
    }
   ],
   "source": [
    "# Copy the Cancer prevalence column to Caloric DataFrame\n",
    "gbr['Prevalence'] = prevalence['Prevalence'].values\n",
    "gbr.head(5)"
   ]
  },
  {
   "cell_type": "code",
   "execution_count": 223,
   "metadata": {},
   "outputs": [
    {
     "data": {
      "text/html": [
       "<div>\n",
       "<style scoped>\n",
       "    .dataframe tbody tr th:only-of-type {\n",
       "        vertical-align: middle;\n",
       "    }\n",
       "\n",
       "    .dataframe tbody tr th {\n",
       "        vertical-align: top;\n",
       "    }\n",
       "\n",
       "    .dataframe thead th {\n",
       "        text-align: right;\n",
       "    }\n",
       "</style>\n",
       "<table border=\"1\" class=\"dataframe\">\n",
       "  <thead>\n",
       "    <tr style=\"text-align: right;\">\n",
       "      <th></th>\n",
       "      <th>Calories</th>\n",
       "      <th>Prevalence</th>\n",
       "    </tr>\n",
       "  </thead>\n",
       "  <tbody>\n",
       "    <tr>\n",
       "      <th>Calories</th>\n",
       "      <td>1.000000</td>\n",
       "      <td>0.831086</td>\n",
       "    </tr>\n",
       "    <tr>\n",
       "      <th>Prevalence</th>\n",
       "      <td>0.831086</td>\n",
       "      <td>1.000000</td>\n",
       "    </tr>\n",
       "  </tbody>\n",
       "</table>\n",
       "</div>"
      ],
      "text/plain": [
       "            Calories  Prevalence\n",
       "Calories    1.000000    0.831086\n",
       "Prevalence  0.831086    1.000000"
      ]
     },
     "execution_count": 223,
     "metadata": {},
     "output_type": "execute_result"
    }
   ],
   "source": [
    "# Correlation between Total Calories and Cancer Prevalence \n",
    "\n",
    "gbr[['Calories', 'Prevalence']].corr()"
   ]
  },
  {
   "cell_type": "markdown",
   "metadata": {},
   "source": [
    "## Total daily calories intake vs Cancer prevalence correlation is High"
   ]
  },
  {
   "cell_type": "code",
   "execution_count": 224,
   "metadata": {},
   "outputs": [
    {
     "data": {
      "image/png": "[encoded data removed]",
      "text/plain": [
       "<Figure size 432x288 with 1 Axes>"
      ]
     },
     "metadata": {},
     "output_type": "display_data"
    }
   ],
   "source": [
    "import matplotlib\n",
    "import matplotlib.pyplot as plt\n",
    "%matplotlib inline\n",
    "matplotlib.style.use('ggplot')\n",
    "\n",
    "\n",
    "plt.figure(figsize=(6,4))\n",
    "plt.scatter(gbr.Calories, gbr.Prevalence)\n",
    "plt.show()\n"
   ]
  },
  {
   "cell_type": "markdown",
   "metadata": {},
   "source": [
    "# Notes\n",
    "\n",
    "* I will test this code with the rest of the countries.\n",
    "\n",
    "\n",
    "* If we talk more in general about Hunger and Undernourishment. This problem affects more the developing countries and children in specific. Most of this children never grow up to be affected by cancer.\n",
    "https://ourworldindata.org/hunger-and-undernourishment#depth-of-the-food-deficit\n",
    "\n",
    "\n",
    "* Most developed countries have more cancer prevalence. ¿Life expentancy is higher? This countries don't have Hunger and Undernourishment problems.\n",
    "https://ourworldindata.org/cancer#cancer-prevalence\n",
    "\n",
    "\n",
    "* Because of the points 2 and 3, I'm not sure about the direct correlation between the Calories intake and the Cancer prevalence. The correlation could be just coincidence? \n",
    "\n",
    "\n",
    "* The set of observations is small: from 1990 to 2013\n",
    "\n",
    "\n",
    "* Looking for information about this issue I found that there are a problem with cancer patients and malnutrition. But this is a different problem.\n",
    "\n",
    "\n",
    "* If we convert the year index to datetime could we treat the dataset as a timeseries?"
   ]
  },
  {
   "cell_type": "code",
   "execution_count": null,
   "metadata": {},
   "outputs": [],
   "source": []
  }
 ],
 "metadata": {
  "kernelspec": {
   "display_name": "Python 3",
   "language": "python",
   "name": "python3"
  },
  "language_info": {
   "codemirror_mode": {
    "name": "ipython",
    "version": 3
   },
   "file_extension": ".py",
   "mimetype": "text/x-python",
   "name": "python",
   "nbconvert_exporter": "python",
   "pygments_lexer": "ipython3",
   "version": "3.7.5"
  }
 },
 "nbformat": 4,
 "nbformat_minor": 2
}
